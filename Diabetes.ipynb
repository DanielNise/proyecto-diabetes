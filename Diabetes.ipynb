{
  "cells": [
    {
      "cell_type": "code",
      "execution_count": null,
      "id": "7aa9f0b0",
      "metadata": {
        "id": "7aa9f0b0"
      },
      "outputs": [],
      "source": [
        "import numpy as np\n",
        "import pandas as pd\n",
        "\n",
        "import matplotlib.pyplot as plt\n",
        "import sklearn\n",
        "import mlxtend"
      ]
    },
    {
      "cell_type": "code",
      "execution_count": 1,
      "id": "f2e12641",
      "metadata": {
        "colab": {
          "base_uri": "https://localhost:8080/",
          "height": 304
        },
        "id": "f2e12641",
        "outputId": "f2c3bf17-7939-45cd-b68b-f513159e939c"
      },
      "outputs": [
        {
          "ename": "NameError",
          "evalue": "name 'pd' is not defined",
          "output_type": "error",
          "traceback": [
            "\u001b[31m---------------------------------------------------------------------------\u001b[39m",
            "\u001b[31mNameError\u001b[39m                                 Traceback (most recent call last)",
            "\u001b[36mCell\u001b[39m\u001b[36m \u001b[39m\u001b[32mIn[1]\u001b[39m\u001b[32m, line 2\u001b[39m\n\u001b[32m      1\u001b[39m \u001b[38;5;66;03m# Cargmaos el dataset a un DataFrame de pandas\u001b[39;00m\n\u001b[32m----> \u001b[39m\u001b[32m2\u001b[39m dfdata = \u001b[43mpd\u001b[49m.read_csv(\u001b[33m\"\u001b[39m\u001b[33mdiabetes.csv\u001b[39m\u001b[33m\"\u001b[39m)\n",
            "\u001b[31mNameError\u001b[39m: name 'pd' is not defined"
          ]
        }
      ],
      "source": [
        "# Cargmaos el dataset a un DataFrame de pandas\n",
        "dfdata = pd.read_csv(\"diabetes.csv\")"
      ]
    },
    {
      "cell_type": "code",
      "execution_count": null,
      "id": "30ec8730",
      "metadata": {
        "id": "30ec8730"
      },
      "outputs": [],
      "source": [
        "# Imprimimos la cabecera\n",
        "dfdata.head()"
      ]
    },
    {
      "cell_type": "code",
      "execution_count": null,
      "id": "6b56908b",
      "metadata": {
        "id": "6b56908b"
      },
      "outputs": [],
      "source": [
        "# Imprimimos la cola\n",
        "dfdata.tail()"
      ]
    },
    {
      "cell_type": "code",
      "execution_count": null,
      "id": "3U6mn460rI3t",
      "metadata": {
        "id": "3U6mn460rI3t"
      },
      "outputs": [],
      "source": [
        "X = dfdata.drop(labels='Outcome', axis = 1)\n",
        "Y = dfdata.Outcome"
      ]
    },
    {
      "cell_type": "code",
      "execution_count": null,
      "id": "3fb68735",
      "metadata": {
        "id": "3fb68735"
      },
      "outputs": [],
      "source": [
        "# Verificamos la cantidad de datos por cada columna\n",
        "dfdata.count()"
      ]
    },
    {
      "cell_type": "code",
      "execution_count": null,
      "id": "9fc3cee8",
      "metadata": {
        "id": "9fc3cee8"
      },
      "outputs": [],
      "source": [
        "# Verificamos si hay datos nulos\n",
        "dfdata.isnull().sum()"
      ]
    },
    {
      "cell_type": "code",
      "execution_count": null,
      "id": "e8da225c",
      "metadata": {
        "id": "e8da225c"
      },
      "outputs": [],
      "source": [
        "# Revisamos la estadística descriptiva del dataset\n",
        "dfdata.describe()"
      ]
    },
    {
      "cell_type": "code",
      "execution_count": null,
      "id": "Brasjbp0q-nv",
      "metadata": {
        "id": "Brasjbp0q-nv"
      },
      "outputs": [],
      "source": []
    },
    {
      "cell_type": "code",
      "execution_count": null,
      "id": "f5de097e",
      "metadata": {
        "id": "f5de097e"
      },
      "outputs": [],
      "source": [
        "labels = ['Sano','Diabetes']\n",
        "\n",
        "labels"
      ]
    },
    {
      "cell_type": "code",
      "execution_count": null,
      "id": "d7805a2d",
      "metadata": {
        "id": "d7805a2d"
      },
      "outputs": [],
      "source": [
        "# Dividimos el dataset en datos de entrenamiento (80%) y prueba (20%)\n",
        "from sklearn.model_selection import train_test_split\n",
        "\n",
        "xtrain, xtest, ytrain, ytest = train_test_split(X, Y, test_size=0.2, random_state=42)\n",
        "\n",
        "print('xtrain: {} ytrain: {} xtest: {} ytest: {}'.format(xtrain.shape, ytrain.shape, xtest.shape, ytest.shape))"
      ]
    },
    {
      "cell_type": "code",
      "execution_count": null,
      "id": "d77d05ed",
      "metadata": {
        "id": "d77d05ed"
      },
      "outputs": [],
      "source": [
        "# Creamos un modelo de RandomForest\n",
        "from sklearn.ensemble import RandomForestClassifier\n",
        "\n",
        "RF_model = RandomForestClassifier(n_estimators = 49,\n",
        "                                 random_state = 45,\n",
        "                                 min_samples_leaf = 15)"
      ]
    },
    {
      "cell_type": "code",
      "execution_count": null,
      "id": "d3dbd63e",
      "metadata": {
        "id": "d3dbd63e"
      },
      "outputs": [],
      "source": [
        "# Ajustamos el modelo con los datos de entrenamiento\n",
        "RF_model.fit(xtrain,ytrain)"
      ]
    },
    {
      "cell_type": "code",
      "execution_count": null,
      "id": "3d2d30be",
      "metadata": {
        "id": "3d2d30be"
      },
      "outputs": [],
      "source": [
        "from mlxtend.plotting import plot_confusion_matrix\n",
        "from sklearn.metrics import confusion_matrix\n",
        "from sklearn import metrics\n",
        "\n",
        "# Calculamos las salidas de predicción con los datos de test\n",
        "ypred = RF_model.predict(xtest)\n",
        "\n",
        "# Usando la salida esperada y la salida de predicción calculamos la matriz de confusión\n",
        "matriz = confusion_matrix(ytest,ypred)\n",
        "\n",
        "# Graficamos la matriz de confusión\n",
        "plot_confusion_matrix(conf_mat=matriz, figsize=(6,6), show_normed=False)\n",
        "plt.tight_layout()\n",
        "\n",
        "# Imprimimos el resumen de métricas del modelo\n",
        "print(metrics.classification_report(ytest,ypred, digits = 4))\n"
      ]
    },
    {
      "cell_type": "code",
      "execution_count": null,
      "id": "8405b68a",
      "metadata": {
        "id": "8405b68a"
      },
      "outputs": [],
      "source": []
    }
  ],
  "metadata": {
    "colab": {
      "provenance": []
    },
    "kernelspec": {
      "display_name": "_env",
      "language": "python",
      "name": "python3"
    },
    "language_info": {
      "codemirror_mode": {
        "name": "ipython",
        "version": 3
      },
      "file_extension": ".py",
      "mimetype": "text/x-python",
      "name": "python",
      "nbconvert_exporter": "python",
      "pygments_lexer": "ipython3",
      "version": "3.13.7"
    }
  },
  "nbformat": 4,
  "nbformat_minor": 5
}
